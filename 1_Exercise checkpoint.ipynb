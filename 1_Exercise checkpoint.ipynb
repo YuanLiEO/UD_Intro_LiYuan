{
 "cells": [
  {
   "cell_type": "markdown",
   "id": "38e188a5",
   "metadata": {},
   "source": [
    "# Exercise 00\n",
    "Write a piece of code that allocates a list of 20 integers and initializes each element by its index multiplied by 5. Print the result."
   ]
  },
  {
   "cell_type": "code",
   "execution_count": 38,
   "id": "01aa4f35",
   "metadata": {},
   "outputs": [
    {
     "name": "stdout",
     "output_type": "stream",
     "text": [
      "[0, 5, 10, 15, 20, 25, 30, 35, 40, 45, 50, 55, 60, 65, 70, 75, 80, 85, 90, 95]\n"
     ]
    }
   ],
   "source": [
    "lst=list(range(20,40))\n",
    "\n",
    "\n",
    "lst2=[0]\n",
    "i=0\n",
    "while i<(len(lst)-1):\n",
    "    i=i+1\n",
    "    lst2.append(i*5)\n",
    "\n",
    "print(lst2)\n"
   ]
  },
  {
   "cell_type": "code",
   "execution_count": 37,
   "id": "9f0b1c42",
   "metadata": {},
   "outputs": [
    {
     "name": "stdout",
     "output_type": "stream",
     "text": [
      "[0, 5, 10, 15, 20, 25, 30, 35, 40, 45, 50, 55, 60, 65, 70, 75, 80, 85, 90, 95]\n"
     ]
    }
   ],
   "source": [
    "lst3=[]\n",
    "for x in range(len(lst)):\n",
    " lst3.append(x*5)\n",
    "print(lst3)\n",
    "    "
   ]
  },
  {
   "cell_type": "markdown",
   "id": "529d91ae",
   "metadata": {},
   "source": [
    "# Exercise 01\n",
    "Define a function that takes an integer as input, prints  all integers that it is divisable by, and returns the largest one."
   ]
  },
  {
   "cell_type": "markdown",
   "id": "8cd07c5e",
   "metadata": {},
   "source": [
    "\n",
    "\n",
    "def function(ipt):\n",
    "    ipt=int(input(\"input a integer plz\"))\n",
    "    lst= list(range(1, ipt+1))\n",
    "    lsti=[]\n",
    "    for x in lst:\n",
    "        r=ipt%x\n",
    "        if r==0:\n",
    "            lsti.append(x)\n",
    "    print(lsti, max(lsti))\n",
    "    return ipt\n"
   ]
  },
  {
   "cell_type": "code",
   "execution_count": 125,
   "id": "569e1a0f",
   "metadata": {},
   "outputs": [
    {
     "name": "stdout",
     "output_type": "stream",
     "text": [
      "input a integer plz8\n",
      "[1, 2, 4, 8] 8\n"
     ]
    },
    {
     "data": {
      "text/plain": [
       "8"
      ]
     },
     "execution_count": 125,
     "metadata": {},
     "output_type": "execute_result"
    }
   ],
   "source": [
    "function(ipt)"
   ]
  },
  {
   "cell_type": "markdown",
   "id": "ddde7c2d",
   "metadata": {},
   "source": [
    "def function_2( ipt):\n",
    "    ipt=int(input(\"input a integer plz\"))\n",
    "    lst= list(range(1, ipt+1))\n",
    "    lsti=[]\n",
    "    for x in lst:\n",
    "        r=ipt%x\n",
    "        if r==0:\n",
    "            lsti.append(x)\n",
    "    return lsti\n",
    " "
   ]
  },
  {
   "cell_type": "code",
   "execution_count": 100,
   "id": "a976f538",
   "metadata": {},
   "outputs": [
    {
     "name": "stdout",
     "output_type": "stream",
     "text": [
      "[1, 2, 3, 5, 6, 9, 10, 15, 18, 30, 45, 90] 90\n"
     ]
    }
   ],
   "source": [
    "print (lsti, max(lsti))"
   ]
  },
  {
   "cell_type": "markdown",
   "id": "cfbe30d4",
   "metadata": {},
   "source": [
    "# Exercise 02\n",
    "- create a dictionary with 6 keys and values of your choice\n",
    "- write a function that takes a dictionary and a value as input and returns whether the value occurs as a key in the dictionary\n",
    "- write a function that takes a dictionary as input, and returns the dictionary but the keys are swapped with their values (resolve the issue if a value occurs twice!)"
   ]
  },
  {
   "cell_type": "code",
   "execution_count": null,
   "id": "5cc882ee",
   "metadata": {},
   "outputs": [],
   "source": [
    "  \n",
    "\n",
    "def order(Dict,ipt_d):\n",
    "    \n",
    "    if ipt_d ==\"Dict\":\n",
    "        ipt_v=input(\"write down the value you wanna search\") \n",
    "        \n",
    "        if ipt_v in Dict.values():\n",
    "            count = 0\n",
    "            for x in Dict.values():\n",
    "                if ipt_v == x:\n",
    "                    return \"Here is your key, \"+ list(Dict.keys())[count]\n",
    "                else:\n",
    "                    count += 1\n",
    "            \n",
    "                   \n",
    "        else:\n",
    "             return \"sorry\"\n",
    "    else:\n",
    "        return \"sorry\"\n",
    "    \n",
    "Dict={\"1\": \"move_right\", \"2\":\"move_left\",\"3\":\"move_up\",\"4\":\"move_down\", \"5\":\"pick_up_box\",\"6\":\"attack\"}\n",
    "ipt_d=input(\"write down the dict you wanna check\")\n",
    "\n",
    "print (order(Dict,ipt_d))"
   ]
  },
  {
   "cell_type": "code",
   "execution_count": 172,
   "id": "4d63628a",
   "metadata": {},
   "outputs": [
    {
     "name": "stdout",
     "output_type": "stream",
     "text": [
      "{'move_right': '1', 'move_left': '2', 'move_up': '3', 'move_down': '4', 'pick_up_box': '5', 'attack': '6'}\n"
     ]
    }
   ],
   "source": [
    "Dictnew={}\n",
    "for x,y in Dict.items():\n",
    "  Dictnew[y]=x\n",
    "print(Dictnew)\n"
   ]
  },
  {
   "cell_type": "markdown",
   "id": "b4b4e426",
   "metadata": {},
   "source": [
    "# Exercise 03\n",
    "Define a function that creates a dictionary of the first n fibonacci numbers as values paired with their indices as keys. "
   ]
  },
  {
   "cell_type": "code",
   "execution_count": 91,
   "id": "7845b5a4",
   "metadata": {},
   "outputs": [],
   "source": [
    "F0=1\n",
    "F1=1\n",
    "\n",
    "F(n)=F(n - 1)+F(n - 2)\n",
    "    \n"
   ]
  },
  {
   "cell_type": "code",
   "execution_count": 142,
   "id": "555b84cb",
   "metadata": {},
   "outputs": [
    {
     "name": "stdout",
     "output_type": "stream",
     "text": [
      "please write down your index1\n"
     ]
    },
    {
     "data": {
      "text/plain": [
       "1"
      ]
     },
     "execution_count": 142,
     "metadata": {},
     "output_type": "execute_result"
    }
   ],
   "source": [
    "def getFibonacciAbove(number):\n",
    "    \n",
    "    n1 = 0\n",
    "    n2 = 1\n",
    "\n",
    "    while n1<number:\n",
    "        m = n1 + n2\n",
    "        n1 = n2\n",
    "        n2 = m\n",
    "    return n1\n",
    "    \n",
    "number=int(input(\"please write down your index\"))    \n",
    "getFibonacciAbove(number)"
   ]
  }
 ],
 "metadata": {
  "kernelspec": {
   "display_name": "Python 3 (ipykernel)",
   "language": "python",
   "name": "python3"
  },
  "language_info": {
   "codemirror_mode": {
    "name": "ipython",
    "version": 3
   },
   "file_extension": ".py",
   "mimetype": "text/x-python",
   "name": "python",
   "nbconvert_exporter": "python",
   "pygments_lexer": "ipython3",
   "version": "3.11.5"
  }
 },
 "nbformat": 4,
 "nbformat_minor": 5
}
